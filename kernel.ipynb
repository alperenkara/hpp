{
  "cells": [
    {
      "metadata": {
        "_uuid": "8f2839f25d086af736a60e9eeb907d3b93b6e0e5",
        "_cell_guid": "b1076dfc-b9ad-4769-8c92-a6c4dae69d19",
        "trusted": true
      },
      "cell_type": "code",
      "source": "# This Python 3 environment comes with many helpful analytics libraries installed\n# It is defined by the kaggle/python docker image: https://github.com/kaggle/docker-python\n# For example, here's several helpful packages to load in \n\"\"\" deneme \"\"\"\nimport numpy as np # linear algebra\nimport pandas as pd # data processing, CSV file I/O (e.g. pd.read_csv)\nfrom scipy.stats import pearsonr\n\n# Input data files are available in the \"../input/\" directory.\n# For example, running this (by clicking run or pressing Shift+Enter) will list the files in the input directory\n\nimport os\nprint(os.listdir(\"../input\"))\nhouseData = pd.read_csv(\"../input/kc_house_data.csv\")\n# Any results you write to the current directory are saved as output.\n#controlling that is everything okay\n#printing first 10 rows(pandas)\nhouseData.head(n=10)\n\n# Check any number of columns with NaN\nprint(houseData.isnull().any().sum(), ' / ', len(houseData.columns))\n# Check any number of data points with NaN\nprint(houseData.isnull().any(axis=1).sum(), ' / ', len(houseData))\n\n#clean id and date columns(pandas)\n#axis=1 means, drop from columns\nhouseData= houseData.drop(['id', 'date','lat','long'],axis=1)\n\n#!formatting of price column\naverage = houseData.groupby('zipcode')['price'.rstrip('0')].mean()\n\nprint(average)\nhouseData.head(n=10)",
      "execution_count": 1,
      "outputs": [
        {
          "output_type": "stream",
          "text": "['kc_house_data.csv']\n0  /  21\n0  /  21613\nzipcode\n98001    2.808047e+05\n98002    2.342840e+05\n98003    2.941113e+05\n98004    1.355927e+06\n98005    8.101649e+05\n98006    8.596848e+05\n98007    6.171051e+05\n98008    6.455074e+05\n98010    4.236660e+05\n98011    4.903515e+05\n98014    4.556171e+05\n98019    4.247887e+05\n98022    3.157093e+05\n98023    2.867328e+05\n98024    5.805268e+05\n98027    6.169906e+05\n98028    4.624800e+05\n98029    6.126536e+05\n98030    2.961880e+05\n98031    3.005399e+05\n98032    2.512962e+05\n98033    8.037195e+05\n98034    5.216529e+05\n98038    3.668676e+05\n98039    2.160607e+06\n98040    1.194230e+06\n98042    3.116321e+05\n98045    4.394711e+05\n98052    6.452315e+05\n98053    6.781631e+05\n             ...     \n98092    3.349211e+05\n98102    9.012583e+05\n98103    5.849192e+05\n98105    8.628252e+05\n98106    3.195814e+05\n98107    5.790534e+05\n98108    3.556785e+05\n98109    8.796236e+05\n98112    1.095499e+06\n98115    6.199005e+05\n98116    6.186342e+05\n98117    5.767950e+05\n98118    4.176374e+05\n98119    8.494480e+05\n98122    6.343602e+05\n98125    4.694558e+05\n98126    4.247064e+05\n98133    3.869974e+05\n98136    5.516887e+05\n98144    5.945477e+05\n98146    3.594832e+05\n98148    2.849086e+05\n98155    4.237257e+05\n98166    4.642318e+05\n98168    2.403284e+05\n98177    6.761854e+05\n98178    3.106128e+05\n98188    2.890783e+05\n98198    3.028789e+05\n98199    7.918208e+05\nName: price, Length: 70, dtype: float64\n",
          "name": "stdout"
        },
        {
          "output_type": "execute_result",
          "execution_count": 1,
          "data": {
            "text/plain": "       price  bedrooms     ...      sqft_living15  sqft_lot15\n0   221900.0         3     ...               1340        5650\n1   538000.0         3     ...               1690        7639\n2   180000.0         2     ...               2720        8062\n3   604000.0         4     ...               1360        5000\n4   510000.0         3     ...               1800        7503\n5  1225000.0         4     ...               4760      101930\n6   257500.0         3     ...               2238        6819\n7   291850.0         3     ...               1650        9711\n8   229500.0         3     ...               1780        8113\n9   323000.0         3     ...               2390        7570\n\n[10 rows x 17 columns]",
            "text/html": "<div>\n<style scoped>\n    .dataframe tbody tr th:only-of-type {\n        vertical-align: middle;\n    }\n\n    .dataframe tbody tr th {\n        vertical-align: top;\n    }\n\n    .dataframe thead th {\n        text-align: right;\n    }\n</style>\n<table border=\"1\" class=\"dataframe\">\n  <thead>\n    <tr style=\"text-align: right;\">\n      <th></th>\n      <th>price</th>\n      <th>bedrooms</th>\n      <th>bathrooms</th>\n      <th>sqft_living</th>\n      <th>sqft_lot</th>\n      <th>floors</th>\n      <th>waterfront</th>\n      <th>view</th>\n      <th>condition</th>\n      <th>grade</th>\n      <th>sqft_above</th>\n      <th>sqft_basement</th>\n      <th>yr_built</th>\n      <th>yr_renovated</th>\n      <th>zipcode</th>\n      <th>sqft_living15</th>\n      <th>sqft_lot15</th>\n    </tr>\n  </thead>\n  <tbody>\n    <tr>\n      <th>0</th>\n      <td>221900.0</td>\n      <td>3</td>\n      <td>1.00</td>\n      <td>1180</td>\n      <td>5650</td>\n      <td>1.0</td>\n      <td>0</td>\n      <td>0</td>\n      <td>3</td>\n      <td>7</td>\n      <td>1180</td>\n      <td>0</td>\n      <td>1955</td>\n      <td>0</td>\n      <td>98178</td>\n      <td>1340</td>\n      <td>5650</td>\n    </tr>\n    <tr>\n      <th>1</th>\n      <td>538000.0</td>\n      <td>3</td>\n      <td>2.25</td>\n      <td>2570</td>\n      <td>7242</td>\n      <td>2.0</td>\n      <td>0</td>\n      <td>0</td>\n      <td>3</td>\n      <td>7</td>\n      <td>2170</td>\n      <td>400</td>\n      <td>1951</td>\n      <td>1991</td>\n      <td>98125</td>\n      <td>1690</td>\n      <td>7639</td>\n    </tr>\n    <tr>\n      <th>2</th>\n      <td>180000.0</td>\n      <td>2</td>\n      <td>1.00</td>\n      <td>770</td>\n      <td>10000</td>\n      <td>1.0</td>\n      <td>0</td>\n      <td>0</td>\n      <td>3</td>\n      <td>6</td>\n      <td>770</td>\n      <td>0</td>\n      <td>1933</td>\n      <td>0</td>\n      <td>98028</td>\n      <td>2720</td>\n      <td>8062</td>\n    </tr>\n    <tr>\n      <th>3</th>\n      <td>604000.0</td>\n      <td>4</td>\n      <td>3.00</td>\n      <td>1960</td>\n      <td>5000</td>\n      <td>1.0</td>\n      <td>0</td>\n      <td>0</td>\n      <td>5</td>\n      <td>7</td>\n      <td>1050</td>\n      <td>910</td>\n      <td>1965</td>\n      <td>0</td>\n      <td>98136</td>\n      <td>1360</td>\n      <td>5000</td>\n    </tr>\n    <tr>\n      <th>4</th>\n      <td>510000.0</td>\n      <td>3</td>\n      <td>2.00</td>\n      <td>1680</td>\n      <td>8080</td>\n      <td>1.0</td>\n      <td>0</td>\n      <td>0</td>\n      <td>3</td>\n      <td>8</td>\n      <td>1680</td>\n      <td>0</td>\n      <td>1987</td>\n      <td>0</td>\n      <td>98074</td>\n      <td>1800</td>\n      <td>7503</td>\n    </tr>\n    <tr>\n      <th>5</th>\n      <td>1225000.0</td>\n      <td>4</td>\n      <td>4.50</td>\n      <td>5420</td>\n      <td>101930</td>\n      <td>1.0</td>\n      <td>0</td>\n      <td>0</td>\n      <td>3</td>\n      <td>11</td>\n      <td>3890</td>\n      <td>1530</td>\n      <td>2001</td>\n      <td>0</td>\n      <td>98053</td>\n      <td>4760</td>\n      <td>101930</td>\n    </tr>\n    <tr>\n      <th>6</th>\n      <td>257500.0</td>\n      <td>3</td>\n      <td>2.25</td>\n      <td>1715</td>\n      <td>6819</td>\n      <td>2.0</td>\n      <td>0</td>\n      <td>0</td>\n      <td>3</td>\n      <td>7</td>\n      <td>1715</td>\n      <td>0</td>\n      <td>1995</td>\n      <td>0</td>\n      <td>98003</td>\n      <td>2238</td>\n      <td>6819</td>\n    </tr>\n    <tr>\n      <th>7</th>\n      <td>291850.0</td>\n      <td>3</td>\n      <td>1.50</td>\n      <td>1060</td>\n      <td>9711</td>\n      <td>1.0</td>\n      <td>0</td>\n      <td>0</td>\n      <td>3</td>\n      <td>7</td>\n      <td>1060</td>\n      <td>0</td>\n      <td>1963</td>\n      <td>0</td>\n      <td>98198</td>\n      <td>1650</td>\n      <td>9711</td>\n    </tr>\n    <tr>\n      <th>8</th>\n      <td>229500.0</td>\n      <td>3</td>\n      <td>1.00</td>\n      <td>1780</td>\n      <td>7470</td>\n      <td>1.0</td>\n      <td>0</td>\n      <td>0</td>\n      <td>3</td>\n      <td>7</td>\n      <td>1050</td>\n      <td>730</td>\n      <td>1960</td>\n      <td>0</td>\n      <td>98146</td>\n      <td>1780</td>\n      <td>8113</td>\n    </tr>\n    <tr>\n      <th>9</th>\n      <td>323000.0</td>\n      <td>3</td>\n      <td>2.50</td>\n      <td>1890</td>\n      <td>6560</td>\n      <td>2.0</td>\n      <td>0</td>\n      <td>0</td>\n      <td>3</td>\n      <td>7</td>\n      <td>1890</td>\n      <td>0</td>\n      <td>2003</td>\n      <td>0</td>\n      <td>98038</td>\n      <td>2390</td>\n      <td>7570</td>\n    </tr>\n  </tbody>\n</table>\n</div>"
          },
          "metadata": {}
        }
      ]
    },
    {
      "metadata": {
        "trusted": true,
        "_uuid": "d663b12bc48f89fd39e5d069a6d48e612392ca9a"
      },
      "cell_type": "code",
      "source": "#What would you segment price on (3 factors)\n#ANSWER: sqft_living,grade ,sqft_above because they have high correlations with price\n#iloc[:,1:]-> whole rows and columns starting from bedrooms,\n#epsilon contains \nepsilon = houseData.iloc[:,1:].columns.tolist()\ntarget = houseData.iloc[:,0].name\ncorrelations = {}\nfor f in epsilon:\n    data_temp = houseData[[f,target]]\n    x1 = data_temp[f].values\n    x2 = data_temp[target].values\n    key = f + ' vs ' + target\n    correlations[key] = pearsonr(x1,x2)[0]\n    \ndata_correlations = pd.DataFrame(correlations, index=['Value']).T\ndata_correlations.loc[data_correlations['Value'].abs().sort_values(ascending=False).index]",
      "execution_count": 3,
      "outputs": [
        {
          "output_type": "execute_result",
          "execution_count": 3,
          "data": {
            "text/plain": "                           Value\nsqft_living vs price    0.702035\ngrade vs price          0.667434\nsqft_above vs price     0.605567\nsqft_living15 vs price  0.585379\nbathrooms vs price      0.525138\nview vs price           0.397293\nsqft_basement vs price  0.323816\nbedrooms vs price       0.308350\nwaterfront vs price     0.266369\nfloors vs price         0.256794\nyr_renovated vs price   0.126434\nsqft_lot vs price       0.089661\nsqft_lot15 vs price     0.082447\nyr_built vs price       0.054012\nzipcode vs price       -0.053203\ncondition vs price      0.036362",
            "text/html": "<div>\n<style scoped>\n    .dataframe tbody tr th:only-of-type {\n        vertical-align: middle;\n    }\n\n    .dataframe tbody tr th {\n        vertical-align: top;\n    }\n\n    .dataframe thead th {\n        text-align: right;\n    }\n</style>\n<table border=\"1\" class=\"dataframe\">\n  <thead>\n    <tr style=\"text-align: right;\">\n      <th></th>\n      <th>Value</th>\n    </tr>\n  </thead>\n  <tbody>\n    <tr>\n      <th>sqft_living vs price</th>\n      <td>0.702035</td>\n    </tr>\n    <tr>\n      <th>grade vs price</th>\n      <td>0.667434</td>\n    </tr>\n    <tr>\n      <th>sqft_above vs price</th>\n      <td>0.605567</td>\n    </tr>\n    <tr>\n      <th>sqft_living15 vs price</th>\n      <td>0.585379</td>\n    </tr>\n    <tr>\n      <th>bathrooms vs price</th>\n      <td>0.525138</td>\n    </tr>\n    <tr>\n      <th>view vs price</th>\n      <td>0.397293</td>\n    </tr>\n    <tr>\n      <th>sqft_basement vs price</th>\n      <td>0.323816</td>\n    </tr>\n    <tr>\n      <th>bedrooms vs price</th>\n      <td>0.308350</td>\n    </tr>\n    <tr>\n      <th>waterfront vs price</th>\n      <td>0.266369</td>\n    </tr>\n    <tr>\n      <th>floors vs price</th>\n      <td>0.256794</td>\n    </tr>\n    <tr>\n      <th>yr_renovated vs price</th>\n      <td>0.126434</td>\n    </tr>\n    <tr>\n      <th>sqft_lot vs price</th>\n      <td>0.089661</td>\n    </tr>\n    <tr>\n      <th>sqft_lot15 vs price</th>\n      <td>0.082447</td>\n    </tr>\n    <tr>\n      <th>yr_built vs price</th>\n      <td>0.054012</td>\n    </tr>\n    <tr>\n      <th>zipcode vs price</th>\n      <td>-0.053203</td>\n    </tr>\n    <tr>\n      <th>condition vs price</th>\n      <td>0.036362</td>\n    </tr>\n  </tbody>\n</table>\n</div>"
          },
          "metadata": {}
        }
      ]
    },
    {
      "metadata": {
        "trusted": true,
        "_uuid": "75f326639eba9817a7f666ea05d3d7731a519d66"
      },
      "cell_type": "code",
      "source": "average = houseData.groupby('zipcode')['price'].mean()\nprint(average)",
      "execution_count": 8,
      "outputs": [
        {
          "output_type": "stream",
          "text": "zipcode\n98001    2.808047e+05\n98002    2.342840e+05\n98003    2.941113e+05\n98004    1.355927e+06\n98005    8.101649e+05\n98006    8.596848e+05\n98007    6.171051e+05\n98008    6.455074e+05\n98010    4.236660e+05\n98011    4.903515e+05\n98014    4.556171e+05\n98019    4.247887e+05\n98022    3.157093e+05\n98023    2.867328e+05\n98024    5.805268e+05\n98027    6.169906e+05\n98028    4.624800e+05\n98029    6.126536e+05\n98030    2.961880e+05\n98031    3.005399e+05\n98032    2.512962e+05\n98033    8.037195e+05\n98034    5.216529e+05\n98038    3.668676e+05\n98039    2.160607e+06\n98040    1.194230e+06\n98042    3.116321e+05\n98045    4.394711e+05\n98052    6.452315e+05\n98053    6.781631e+05\n             ...     \n98092    3.349211e+05\n98102    9.012583e+05\n98103    5.849192e+05\n98105    8.628252e+05\n98106    3.195814e+05\n98107    5.790534e+05\n98108    3.556785e+05\n98109    8.796236e+05\n98112    1.095499e+06\n98115    6.199005e+05\n98116    6.186342e+05\n98117    5.767950e+05\n98118    4.176374e+05\n98119    8.494480e+05\n98122    6.343602e+05\n98125    4.694558e+05\n98126    4.247064e+05\n98133    3.869974e+05\n98136    5.516887e+05\n98144    5.945477e+05\n98146    3.594832e+05\n98148    2.849086e+05\n98155    4.237257e+05\n98166    4.642318e+05\n98168    2.403284e+05\n98177    6.761854e+05\n98178    3.106128e+05\n98188    2.890783e+05\n98198    3.028789e+05\n98199    7.918208e+05\nName: price, Length: 70, dtype: float64\n",
          "name": "stdout"
        }
      ]
    },
    {
      "metadata": {
        "_cell_guid": "79c7e3d0-c299-4dcb-8224-4455121ee9b0",
        "_uuid": "d629ff2d2480ee46fbb7e2d37f6b5fab8052498a",
        "trusted": true,
        "_kg_hide-input": false,
        "_kg_hide-output": false,
        "scrolled": true,
        "collapsed": true
      },
      "cell_type": "code",
      "source": "",
      "execution_count": null,
      "outputs": []
    },
    {
      "metadata": {
        "trusted": true,
        "collapsed": true,
        "_uuid": "89f292b1b6c598135a6e7eb2f8dba6e8c2060bea"
      },
      "cell_type": "code",
      "source": "",
      "execution_count": null,
      "outputs": []
    },
    {
      "metadata": {
        "trusted": true,
        "collapsed": true,
        "_uuid": "000aa8ac46b61c982a9549b56eb55c2da4c54c64"
      },
      "cell_type": "code",
      "source": "",
      "execution_count": null,
      "outputs": []
    },
    {
      "metadata": {
        "trusted": true,
        "collapsed": true,
        "_uuid": "c04bd81cad3c120922283cb79ea39e5eb465456f"
      },
      "cell_type": "code",
      "source": "",
      "execution_count": null,
      "outputs": []
    }
  ],
  "metadata": {
    "kernelspec": {
      "display_name": "Python 3",
      "language": "python",
      "name": "python3"
    },
    "language_info": {
      "name": "python",
      "version": "3.6.6",
      "mimetype": "text/x-python",
      "codemirror_mode": {
        "name": "ipython",
        "version": 3
      },
      "pygments_lexer": "ipython3",
      "nbconvert_exporter": "python",
      "file_extension": ".py"
    }
  },
  "nbformat": 4,
  "nbformat_minor": 1
}