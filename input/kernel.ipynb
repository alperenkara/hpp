{
 "cells": [
  {
   "cell_type": "code",
   "execution_count": null,
   "metadata": {
    "_cell_guid": "79c7e3d0-c299-4dcb-8224-4455121ee9b0",
    "_kg_hide-input": false,
    "_kg_hide-output": false,
    "_uuid": "d629ff2d2480ee46fbb7e2d37f6b5fab8052498a",
    "collapsed": true,
    "scrolled": true
   },
   "outputs": [],
   "source": [
    "import numpy as np # linear algebra\n",
    "import pandas as pd # data processing, CSV file I/O (e.g. pd.read_csv)\n",
    "from scipy.stats import pearsonr\n",
    "from sklearn.linear_model import LinearRegression\n",
    "from sklearn import cross_validation, tree, linear_model\n",
    "from sklearn.model_selection import train_test_split\n",
    "from sklearn.metrics import explained_variance_score\n",
    "\n",
    "import matplotlib.pyplot as plt\n",
    "#Part I:  Let's start simple: What is the average price?\n",
    "import os\n",
    "print(os.listdir(\"input\"))\n",
    "houseData = pd.read_csv(\"kc_house_data.csv\")\n",
    "#to make the data more legible and surpass trailing zeros \n",
    "pd.set_option('display.float_format', lambda x: '%.2f' % x)\n",
    "\n",
    "\n",
    "#controlling that is everything okay\n",
    "#printing first 10 rows(pandas)\n",
    "#houseData.head(n=10)\n",
    "#houseData.describe()\n",
    "\n",
    "#Check any number of columns with NaN\n",
    "print(houseData.isnull().any().sum(), ' / ', len(houseData.columns))\n",
    "# Check any number of data points with NaN\n",
    "print(houseData.isnull().any(axis=1).sum(), ' / ', len(houseData))\n",
    "\n",
    "#clean id and date columns(pandas)\n",
    "#axis=1 means, drop from columns\n",
    "houseData= houseData.drop(['id', 'date','lat','long'],axis=1)\n",
    "#showing average prices by zip codes\n",
    "average = houseData.groupby('zipcode')['price'].mean()\n",
    "#print(average)\n",
    "#houseData.describe()"
   ]
  },
  {
   "cell_type": "code",
   "execution_count": null,
   "metadata": {},
   "outputs": [],
   "source": [
    "# id\n",
    "# date: Date house was sold\n",
    "# price: Price of the sold house\n",
    "# bedrooms: Number of Bedrooms\n",
    "# bathrooms: Number of bathrooms\n",
    "# sqft_living: Square footage of the living space\n",
    "# sqrt_lot: Square footage of the lot\n",
    "# floors: Total floors in the house\n",
    "# waterfront: Whether the house is on a waterfront(1: yes, 0: no)\n",
    "# view: special view?\n",
    "# condition: Condition of the house\n",
    "# grade: \n",
    "# sqft_above: Square footage of house apart from basement\n",
    "# sqft_basement: Square footage of the basement\n",
    "# yr_built: Built year\n",
    "# yr_renovated: Year when the house was renovated\n",
    "# zipcode: zipcode of the house\n",
    "# lat: Latitude coordinate\n",
    "# long Longitude coordinate\n",
    "# sqft_living15: Living room area in 2015(implies some renovations)\n",
    "# sqrt_lot15: Lot area in 2015(implies some renovations)"
   ]
  },
  {
   "cell_type": "code",
   "execution_count": null,
   "metadata": {},
   "outputs": [],
   "source": [
    "#Part II : what would you segment price on (use only up to 3 factors)? \n",
    "#sqft_living(0.7),grade(0.67) ,sqft_above(0.61) because they have high correlations with price\n",
    "#iloc[:,1:]-> whole rows and columns starting from bedrooms,\n",
    "#epsilon contains \n",
    "epsilon = houseData.iloc[:,1:].columns.tolist() \n",
    "target = houseData.iloc[:,0].name\n",
    "correlations = {}\n",
    "for f in epsilon:\n",
    "    data_temp = houseData[[f,target]]\n",
    "    x1 = data_temp[f].values\n",
    "    x2 = data_temp[target].values\n",
    "    key = f + ' vs ' + target\n",
    "    correlations[key] = pearsonr(x1,x2)[0]\n",
    "    \n",
    "data_correlations = pd.DataFrame(correlations, index=['Value']).T\n",
    "data_correlations.loc[data_correlations['Value'].abs().sort_values(ascending=False).index]"
   ]
  },
  {
   "cell_type": "code",
   "execution_count": null,
   "metadata": {},
   "outputs": [],
   "source": [
    "#Part II: What is the average price per bedroom and bathroom? Does this data make sense? \n",
    "#Why or why not? \n",
    "#Average prices for per bedroom and bathroom do not give reasonable informations to us\n",
    "\n",
    "#average prices for bathrooms and bedrooms \n",
    "#houseData['price_per_bedroom'] = houseData['price']/houseData['bedrooms']\n",
    "#houseData['price_per_bedroom']\n",
    "\n",
    "# Group by category\n",
    "houseData.sort_values(by=['bedrooms'])\n",
    "bedroom_group = houseData.groupby('bedrooms')\n",
    "bedroom_group['price'].mean()\n",
    "# Group by category\n",
    "houseData.sort_values(by=['bathrooms'])\n",
    "bedroom_group = houseData.groupby('bathrooms')\n",
    "bedroom_group['price'].mean()\n",
    "\n",
    "plt.figure(figsize=(16,8))\n",
    "sns.distplot(houseData['price'],kde=False,bins=50)\n",
    "\n",
    "plt.figure(figsize=(16,8))\n",
    "sns.countplot(houseData['bedrooms'])\n",
    "\n",
    "sns.jointplot(x='price',y='sqft_living',data=df,kind='reg')\n",
    "\n",
    "sns.pairplot(houseData)\n"
   ]
  },
  {
   "cell_type": "code",
   "execution_count": null,
   "metadata": {},
   "outputs": [],
   "source": [
    "#Part III:Which are price outliers?\n",
    "import matplotlib\n",
    "import matplotlib.pyplot as plt\n",
    "import seaborn as sns\n",
    "houseData[['price']].boxplot(return_type='dict')\n",
    "plt.box()\n",
    "\n",
    "houseData.describe()\n"
   ]
  },
  {
   "cell_type": "code",
   "execution_count": 13,
   "metadata": {},
   "outputs": [
    {
     "data": {
      "text/plain": [
       "0.6577353689567231"
      ]
     },
     "execution_count": 13,
     "metadata": {},
     "output_type": "execute_result"
    }
   ],
   "source": [
    "#Part 5(Bonus):Building a statistical model to predict price\n",
    "regModel = linear_model.LinearRegression()\n",
    "newSet = houseData[['zipcode','sqft_living','grade', 'sqft_above', 'bathrooms','view','sqft_basement','waterfront','yr_built','bedrooms']]\n",
    "X = newSet.values\n",
    "y = houseData.price.values\n",
    "X_train, X_test, y_train, y_test = cross_validation.train_test_split(X, y ,test_size=0.2)\n",
    "regModel.fit(X_train, y_train)\n",
    "#print(regModel.predict(X_test))\n",
    "regModel.score(X_test,y_test)\n",
    "\n",
    "\n",
    "\n"
   ]
  },
  {
   "cell_type": "code",
   "execution_count": null,
   "metadata": {},
   "outputs": [],
   "source": []
  },
  {
   "cell_type": "code",
   "execution_count": null,
   "metadata": {},
   "outputs": [],
   "source": []
  }
 ],
 "metadata": {
  "kernelspec": {
   "display_name": "Python 3",
   "language": "python",
   "name": "python3"
  },
  "language_info": {
   "codemirror_mode": {
    "name": "ipython",
    "version": 3
   },
   "file_extension": ".py",
   "mimetype": "text/x-python",
   "name": "python",
   "nbconvert_exporter": "python",
   "pygments_lexer": "ipython3",
   "version": "3.5.4"
  }
 },
 "nbformat": 4,
 "nbformat_minor": 2
}
